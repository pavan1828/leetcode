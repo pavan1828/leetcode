{
 "cells": [
  {
   "cell_type": "markdown",
   "id": "281e6af3",
   "metadata": {},
   "source": [
    "# 1773. Count Items Matching a Rule Level"
   ]
  },
  {
   "cell_type": "markdown",
   "id": "ea35373e",
   "metadata": {},
   "source": [
    "#### Description"
   ]
  },
  {
   "cell_type": "markdown",
   "id": "03b31982",
   "metadata": {},
   "source": [
    "You are given an array items, where each items[i] = [type_i, color_i, name_i] describes the type, color, and name of the i-th item. You are also given a rule represented by two strings, ruleKey and ruleValue.\n",
    "\n",
    "The i-th item is said to match the rule if one of the following is true:\n",
    "\n",
    "* ruleKey == \"type\" and ruleValue == type*i.\n",
    "* ruleKey == \"color\" and ruleValue == color*i.\n",
    "* ruleKey == \"name\" and ruleValue == name_i.\n",
    "\n",
    "\n",
    "Return the number of items that match the given rule."
   ]
  },
  {
   "cell_type": "markdown",
   "id": "8b80a77c",
   "metadata": {},
   "source": [
    "**Input:**\n",
    "\n",
    "items = [[\"Bike\",\"orange\",\"duke\"],[\"Car\",\"silver\",\"Shift\"],[\"watch\",\"blue\",\"fasttrack\"]],rulekey=\"color\",rulevalue=\n",
    "\"blue\"\n",
    "\n",
    "\n",
    "**Explanation:**\n",
    "There is only one item matching the given rule, which is [\"watch\",\"blue\",\"fasttrack\"]."
   ]
  },
  {
   "cell_type": "code",
   "execution_count": 9,
   "id": "59bab514",
   "metadata": {},
   "outputs": [],
   "source": [
    "def fooLC1773(items,rulekey,rulevalue):\n",
    "    '''\n",
    "    ruleKey == \"type\" and ruleValue == type*i.\n",
    "    ruleKey == \"color\" and ruleValue == color*i.\n",
    "    ruleKey == \"name\" and ruleValue == name_i.'''\n",
    "    count = 0\n",
    "    \n",
    "    if ruleKey == \"type\":\n",
    "        for i in range(len(items)):\n",
    "            if items[i][0] == ruleValue:\n",
    "                count += 1\n",
    "    if ruleKey == \"color\":\n",
    "        for i in range(len(items)):\n",
    "            if items[i][1] == ruleValue:\n",
    "                count += 1\n",
    "    if ruleKey == \"name\":\n",
    "        for i in range(len(items)):\n",
    "            if items[i][2] == ruleValue:\n",
    "                count += 1\n",
    "    return count"
   ]
  },
  {
   "cell_type": "code",
   "execution_count": 12,
   "id": "6d2a9114",
   "metadata": {},
   "outputs": [
    {
     "data": {
      "text/plain": [
       "1"
      ]
     },
     "execution_count": 12,
     "metadata": {},
     "output_type": "execute_result"
    }
   ],
   "source": [
    "fooLC1773(items=[[\"Bike\",\"orange\",\"duke\"],[\"Car\",\"silver\",\"shift\"],[\"watch\",\"blue\",\"fasttrack\"]],rulekey='color',rulevalue='blue')"
   ]
  },
  {
   "cell_type": "code",
   "execution_count": 10,
   "id": "6137cfe1",
   "metadata": {},
   "outputs": [
    {
     "name": "stdout",
     "output_type": "stream",
     "text": [
      "\n",
      "    ruleKey == \"type\" and ruleValue == type*i.\n",
      "    ruleKey == \"color\" and ruleValue == color*i.\n",
      "    ruleKey == \"name\" and ruleValue == name_i.\n"
     ]
    }
   ],
   "source": [
    "print(fooLC1773.__doc__)"
   ]
  },
  {
   "cell_type": "code",
   "execution_count": null,
   "id": "318ecf0f",
   "metadata": {},
   "outputs": [],
   "source": []
  }
 ],
 "metadata": {
  "kernelspec": {
   "display_name": "Python 3 (ipykernel)",
   "language": "python",
   "name": "python3"
  },
  "language_info": {
   "codemirror_mode": {
    "name": "ipython",
    "version": 3
   },
   "file_extension": ".py",
   "mimetype": "text/x-python",
   "name": "python",
   "nbconvert_exporter": "python",
   "pygments_lexer": "ipython3",
   "version": "3.9.13"
  }
 },
 "nbformat": 4,
 "nbformat_minor": 5
}
